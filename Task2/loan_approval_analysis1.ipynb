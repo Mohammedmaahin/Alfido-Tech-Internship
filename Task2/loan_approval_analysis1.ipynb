{
  "metadata": {
    "kernelspec": {
      "name": "python",
      "display_name": "Python (Pyodide)",
      "language": "python"
    },
    "language_info": {
      "codemirror_mode": {
        "name": "python",
        "version": 3
      },
      "file_extension": ".py",
      "mimetype": "text/x-python",
      "name": "python",
      "nbconvert_exporter": "python",
      "pygments_lexer": "ipython3",
      "version": "3.8"
    }
  },
  "nbformat_minor": 5,
  "nbformat": 4,
  "cells": [
    {
      "id": "581e126d-d363-42ba-9d14-b698316e526e",
      "cell_type": "markdown",
      "source": "# Loan Approval Prediction\n## Alfido Tech Internship – Task 2\n### Intern: Mohammed Maahin | Candidate ID: BS/REG/106534\nThis project involves performing EDA and building a predictive ML model on a Loan dataset. The target variable is `Loan_Status`, which indicates loan approval (Y/N).",
      "metadata": {}
    },
    {
      "id": "fb88c865-bdfe-47b9-a9cc-75f6e99ec9a5",
      "cell_type": "markdown",
      "source": "## IMPORTING LIBRARIES",
      "metadata": {}
    },
    {
      "id": "eaeff143-c078-40b2-b7c7-d39ab9441121",
      "cell_type": "code",
      "source": "%pip install seaborn",
      "metadata": {
        "trusted": true
      },
      "outputs": [],
      "execution_count": 1
    },
    {
      "id": "d2ca9d88-8b79-4060-98e4-875d1fa0a643",
      "cell_type": "code",
      "source": "import numpy as np\nimport pandas as pd\nfrom sklearn.model_selection import train_test_split\nfrom sklearn.ensemble import RandomForestClassifier \nfrom sklearn.metrics import confusion_matrix,accuracy_score,roc_curve,classification_report\nimport seaborn as sns\n%matplotlib inline\nimport matplotlib.pyplot as plt\n\n\nimport warnings\nwarnings.filterwarnings('ignore')",
      "metadata": {
        "trusted": true
      },
      "outputs": [
        {
          "name": "stderr",
          "output_type": "stream",
          "text": "Matplotlib is building the font cache; this may take a moment.\n"
        }
      ],
      "execution_count": 2
    },
    {
      "id": "6cdf0fc4-0788-47e2-bb98-e252c52d1424",
      "cell_type": "markdown",
      "source": "## LOADING DATASET",
      "metadata": {}
    },
    {
      "id": "28113cbd-355d-4dd2-8ea7-81f4edfb5507",
      "cell_type": "code",
      "source": "df = pd.read_csv(\"loan_prediction.csv\")\ndf",
      "metadata": {
        "trusted": true
      },
      "outputs": [
        {
          "execution_count": 3,
          "output_type": "execute_result",
          "data": {
            "text/plain": "      Loan_ID  Gender Married Dependents     Education Self_Employed  \\\n0    LP001002    Male      No          0      Graduate            No   \n1    LP001003    Male     Yes          1      Graduate            No   \n2    LP001005    Male     Yes          0      Graduate           Yes   \n3    LP001006    Male     Yes          0  Not Graduate            No   \n4    LP001008    Male      No          0      Graduate            No   \n..        ...     ...     ...        ...           ...           ...   \n609  LP002978  Female      No          0      Graduate            No   \n610  LP002979    Male     Yes         3+      Graduate            No   \n611  LP002983    Male     Yes          1      Graduate            No   \n612  LP002984    Male     Yes          2      Graduate            No   \n613  LP002990  Female      No          0      Graduate           Yes   \n\n     ApplicantIncome  CoapplicantIncome  LoanAmount  Loan_Amount_Term  \\\n0               5849                0.0         NaN             360.0   \n1               4583             1508.0       128.0             360.0   \n2               3000                0.0        66.0             360.0   \n3               2583             2358.0       120.0             360.0   \n4               6000                0.0       141.0             360.0   \n..               ...                ...         ...               ...   \n609             2900                0.0        71.0             360.0   \n610             4106                0.0        40.0             180.0   \n611             8072              240.0       253.0             360.0   \n612             7583                0.0       187.0             360.0   \n613             4583                0.0       133.0             360.0   \n\n     Credit_History Property_Area Loan_Status  \n0               1.0         Urban           Y  \n1               1.0         Rural           N  \n2               1.0         Urban           Y  \n3               1.0         Urban           Y  \n4               1.0         Urban           Y  \n..              ...           ...         ...  \n609             1.0         Rural           Y  \n610             1.0         Rural           Y  \n611             1.0         Urban           Y  \n612             1.0         Urban           Y  \n613             0.0     Semiurban           N  \n\n[614 rows x 13 columns]",
            "text/html": "<div>\n<style scoped>\n    .dataframe tbody tr th:only-of-type {\n        vertical-align: middle;\n    }\n\n    .dataframe tbody tr th {\n        vertical-align: top;\n    }\n\n    .dataframe thead th {\n        text-align: right;\n    }\n</style>\n<table border=\"1\" class=\"dataframe\">\n  <thead>\n    <tr style=\"text-align: right;\">\n      <th></th>\n      <th>Loan_ID</th>\n      <th>Gender</th>\n      <th>Married</th>\n      <th>Dependents</th>\n      <th>Education</th>\n      <th>Self_Employed</th>\n      <th>ApplicantIncome</th>\n      <th>CoapplicantIncome</th>\n      <th>LoanAmount</th>\n      <th>Loan_Amount_Term</th>\n      <th>Credit_History</th>\n      <th>Property_Area</th>\n      <th>Loan_Status</th>\n    </tr>\n  </thead>\n  <tbody>\n    <tr>\n      <th>0</th>\n      <td>LP001002</td>\n      <td>Male</td>\n      <td>No</td>\n      <td>0</td>\n      <td>Graduate</td>\n      <td>No</td>\n      <td>5849</td>\n      <td>0.0</td>\n      <td>NaN</td>\n      <td>360.0</td>\n      <td>1.0</td>\n      <td>Urban</td>\n      <td>Y</td>\n    </tr>\n    <tr>\n      <th>1</th>\n      <td>LP001003</td>\n      <td>Male</td>\n      <td>Yes</td>\n      <td>1</td>\n      <td>Graduate</td>\n      <td>No</td>\n      <td>4583</td>\n      <td>1508.0</td>\n      <td>128.0</td>\n      <td>360.0</td>\n      <td>1.0</td>\n      <td>Rural</td>\n      <td>N</td>\n    </tr>\n    <tr>\n      <th>2</th>\n      <td>LP001005</td>\n      <td>Male</td>\n      <td>Yes</td>\n      <td>0</td>\n      <td>Graduate</td>\n      <td>Yes</td>\n      <td>3000</td>\n      <td>0.0</td>\n      <td>66.0</td>\n      <td>360.0</td>\n      <td>1.0</td>\n      <td>Urban</td>\n      <td>Y</td>\n    </tr>\n    <tr>\n      <th>3</th>\n      <td>LP001006</td>\n      <td>Male</td>\n      <td>Yes</td>\n      <td>0</td>\n      <td>Not Graduate</td>\n      <td>No</td>\n      <td>2583</td>\n      <td>2358.0</td>\n      <td>120.0</td>\n      <td>360.0</td>\n      <td>1.0</td>\n      <td>Urban</td>\n      <td>Y</td>\n    </tr>\n    <tr>\n      <th>4</th>\n      <td>LP001008</td>\n      <td>Male</td>\n      <td>No</td>\n      <td>0</td>\n      <td>Graduate</td>\n      <td>No</td>\n      <td>6000</td>\n      <td>0.0</td>\n      <td>141.0</td>\n      <td>360.0</td>\n      <td>1.0</td>\n      <td>Urban</td>\n      <td>Y</td>\n    </tr>\n    <tr>\n      <th>...</th>\n      <td>...</td>\n      <td>...</td>\n      <td>...</td>\n      <td>...</td>\n      <td>...</td>\n      <td>...</td>\n      <td>...</td>\n      <td>...</td>\n      <td>...</td>\n      <td>...</td>\n      <td>...</td>\n      <td>...</td>\n      <td>...</td>\n    </tr>\n    <tr>\n      <th>609</th>\n      <td>LP002978</td>\n      <td>Female</td>\n      <td>No</td>\n      <td>0</td>\n      <td>Graduate</td>\n      <td>No</td>\n      <td>2900</td>\n      <td>0.0</td>\n      <td>71.0</td>\n      <td>360.0</td>\n      <td>1.0</td>\n      <td>Rural</td>\n      <td>Y</td>\n    </tr>\n    <tr>\n      <th>610</th>\n      <td>LP002979</td>\n      <td>Male</td>\n      <td>Yes</td>\n      <td>3+</td>\n      <td>Graduate</td>\n      <td>No</td>\n      <td>4106</td>\n      <td>0.0</td>\n      <td>40.0</td>\n      <td>180.0</td>\n      <td>1.0</td>\n      <td>Rural</td>\n      <td>Y</td>\n    </tr>\n    <tr>\n      <th>611</th>\n      <td>LP002983</td>\n      <td>Male</td>\n      <td>Yes</td>\n      <td>1</td>\n      <td>Graduate</td>\n      <td>No</td>\n      <td>8072</td>\n      <td>240.0</td>\n      <td>253.0</td>\n      <td>360.0</td>\n      <td>1.0</td>\n      <td>Urban</td>\n      <td>Y</td>\n    </tr>\n    <tr>\n      <th>612</th>\n      <td>LP002984</td>\n      <td>Male</td>\n      <td>Yes</td>\n      <td>2</td>\n      <td>Graduate</td>\n      <td>No</td>\n      <td>7583</td>\n      <td>0.0</td>\n      <td>187.0</td>\n      <td>360.0</td>\n      <td>1.0</td>\n      <td>Urban</td>\n      <td>Y</td>\n    </tr>\n    <tr>\n      <th>613</th>\n      <td>LP002990</td>\n      <td>Female</td>\n      <td>No</td>\n      <td>0</td>\n      <td>Graduate</td>\n      <td>Yes</td>\n      <td>4583</td>\n      <td>0.0</td>\n      <td>133.0</td>\n      <td>360.0</td>\n      <td>0.0</td>\n      <td>Semiurban</td>\n      <td>N</td>\n    </tr>\n  </tbody>\n</table>\n<p>614 rows × 13 columns</p>\n</div>"
          },
          "metadata": {}
        }
      ],
      "execution_count": 3
    },
    {
      "id": "58cba2f9-334c-4bfb-8275-40a0fd690c40",
      "cell_type": "markdown",
      "source": "## DATA CLEANING AND EDA",
      "metadata": {}
    },
    {
      "id": "da6a66c1-313f-441e-a1db-6fe69b5b3377",
      "cell_type": "code",
      "source": "df.columns",
      "metadata": {
        "trusted": true
      },
      "outputs": [
        {
          "execution_count": 4,
          "output_type": "execute_result",
          "data": {
            "text/plain": "Index(['Loan_ID', 'Gender', 'Married', 'Dependents', 'Education',\n       'Self_Employed', 'ApplicantIncome', 'CoapplicantIncome', 'LoanAmount',\n       'Loan_Amount_Term', 'Credit_History', 'Property_Area', 'Loan_Status'],\n      dtype='object')"
          },
          "metadata": {}
        }
      ],
      "execution_count": 4
    },
    {
      "id": "2c2627cc-16ac-48a3-9fb6-928353409da8",
      "cell_type": "code",
      "source": "df.info()",
      "metadata": {
        "trusted": true
      },
      "outputs": [
        {
          "name": "stdout",
          "output_type": "stream",
          "text": "<class 'pandas.core.frame.DataFrame'>\nIndex: 614 entries, 0 to 613\nData columns (total 13 columns):\n #   Column             Non-Null Count  Dtype  \n---  ------             --------------  -----  \n 0   Loan_ID            614 non-null    object \n 1   Gender             601 non-null    object \n 2   Married            611 non-null    object \n 3   Dependents         599 non-null    object \n 4   Education          614 non-null    object \n 5   Self_Employed      582 non-null    object \n 6   ApplicantIncome    614 non-null    int64  \n 7   CoapplicantIncome  614 non-null    float64\n 8   LoanAmount         592 non-null    float64\n 9   Loan_Amount_Term   600 non-null    float64\n 10  Credit_History     564 non-null    float64\n 11  Property_Area      614 non-null    object \n 12  Loan_Status        614 non-null    object \ndtypes: float64(4), int64(1), object(8)\nmemory usage: 48.0+ KB\n"
        }
      ],
      "execution_count": 5
    },
    {
      "id": "7d1d95ef-93b9-484f-8e52-9937673a2222",
      "cell_type": "code",
      "source": "df.describe()",
      "metadata": {
        "trusted": true
      },
      "outputs": [
        {
          "execution_count": 6,
          "output_type": "execute_result",
          "data": {
            "text/plain": "       ApplicantIncome  CoapplicantIncome  LoanAmount  Loan_Amount_Term  \\\ncount       614.000000         614.000000  592.000000         600.00000   \nmean       5403.459283        1621.245798  146.412162         342.00000   \nstd        6109.041673        2926.248369   85.587325          65.12041   \nmin         150.000000           0.000000    9.000000          12.00000   \n25%        2877.500000           0.000000  100.000000         360.00000   \n50%        3812.500000        1188.500000  128.000000         360.00000   \n75%        5795.000000        2297.250000  168.000000         360.00000   \nmax       81000.000000       41667.000000  700.000000         480.00000   \n\n       Credit_History  \ncount      564.000000  \nmean         0.842199  \nstd          0.364878  \nmin          0.000000  \n25%          1.000000  \n50%          1.000000  \n75%          1.000000  \nmax          1.000000  ",
            "text/html": "<div>\n<style scoped>\n    .dataframe tbody tr th:only-of-type {\n        vertical-align: middle;\n    }\n\n    .dataframe tbody tr th {\n        vertical-align: top;\n    }\n\n    .dataframe thead th {\n        text-align: right;\n    }\n</style>\n<table border=\"1\" class=\"dataframe\">\n  <thead>\n    <tr style=\"text-align: right;\">\n      <th></th>\n      <th>ApplicantIncome</th>\n      <th>CoapplicantIncome</th>\n      <th>LoanAmount</th>\n      <th>Loan_Amount_Term</th>\n      <th>Credit_History</th>\n    </tr>\n  </thead>\n  <tbody>\n    <tr>\n      <th>count</th>\n      <td>614.000000</td>\n      <td>614.000000</td>\n      <td>592.000000</td>\n      <td>600.00000</td>\n      <td>564.000000</td>\n    </tr>\n    <tr>\n      <th>mean</th>\n      <td>5403.459283</td>\n      <td>1621.245798</td>\n      <td>146.412162</td>\n      <td>342.00000</td>\n      <td>0.842199</td>\n    </tr>\n    <tr>\n      <th>std</th>\n      <td>6109.041673</td>\n      <td>2926.248369</td>\n      <td>85.587325</td>\n      <td>65.12041</td>\n      <td>0.364878</td>\n    </tr>\n    <tr>\n      <th>min</th>\n      <td>150.000000</td>\n      <td>0.000000</td>\n      <td>9.000000</td>\n      <td>12.00000</td>\n      <td>0.000000</td>\n    </tr>\n    <tr>\n      <th>25%</th>\n      <td>2877.500000</td>\n      <td>0.000000</td>\n      <td>100.000000</td>\n      <td>360.00000</td>\n      <td>1.000000</td>\n    </tr>\n    <tr>\n      <th>50%</th>\n      <td>3812.500000</td>\n      <td>1188.500000</td>\n      <td>128.000000</td>\n      <td>360.00000</td>\n      <td>1.000000</td>\n    </tr>\n    <tr>\n      <th>75%</th>\n      <td>5795.000000</td>\n      <td>2297.250000</td>\n      <td>168.000000</td>\n      <td>360.00000</td>\n      <td>1.000000</td>\n    </tr>\n    <tr>\n      <th>max</th>\n      <td>81000.000000</td>\n      <td>41667.000000</td>\n      <td>700.000000</td>\n      <td>480.00000</td>\n      <td>1.000000</td>\n    </tr>\n  </tbody>\n</table>\n</div>"
          },
          "metadata": {}
        }
      ],
      "execution_count": 6
    },
    {
      "id": "0a9b0fbb-6971-407d-a9a8-a1e8058bfe30",
      "cell_type": "code",
      "source": "df.isna().sum()*100/len(df)",
      "metadata": {
        "trusted": true
      },
      "outputs": [
        {
          "execution_count": 7,
          "output_type": "execute_result",
          "data": {
            "text/plain": "Loan_ID              0.000000\nGender               2.117264\nMarried              0.488599\nDependents           2.442997\nEducation            0.000000\nSelf_Employed        5.211726\nApplicantIncome      0.000000\nCoapplicantIncome    0.000000\nLoanAmount           3.583062\nLoan_Amount_Term     2.280130\nCredit_History       8.143322\nProperty_Area        0.000000\nLoan_Status          0.000000\ndtype: float64"
          },
          "metadata": {}
        }
      ],
      "execution_count": 7
    },
    {
      "id": "84c54e49-fb75-4cae-8b80-3242a0e7fc93",
      "cell_type": "code",
      "source": "sns.countplot(x = df['Gender'])",
      "metadata": {
        "trusted": true
      },
      "outputs": [
        {
          "execution_count": 8,
          "output_type": "execute_result",
          "data": {
            "text/plain": "<Axes: xlabel='Gender', ylabel='count'>"
          },
          "metadata": {}
        },
        {
          "output_type": "display_data",
          "data": {
            "text/plain": "<Figure size 640x480 with 1 Axes>",
            "image/png": "[encoded data removed]"
          },
          "metadata": {}
        }
      ],
      "execution_count": 8
    },
    {
      "id": "04f552a2-9e2b-4250-8cf0-f1b4add6a3cf",
      "cell_type": "code",
      "source": "df['Gender'].mode()[0]",
      "metadata": {
        "trusted": true
      },
      "outputs": [
        {
          "execution_count": 9,
          "output_type": "execute_result",
          "data": {
            "text/plain": "'Male'"
          },
          "metadata": {}
        }
      ],
      "execution_count": 9
    },
    {
      "id": "6b73aa62-e1b3-4c30-b251-3f3992e084ba",
      "cell_type": "code",
      "source": "df['Gender'] = df['Gender'].fillna(df['Gender'].mode()[0])",
      "metadata": {
        "trusted": true
      },
      "outputs": [],
      "execution_count": 10
    },
    {
      "id": "f79fcacb-3305-4bf9-8d92-a37a4fcb8df9",
      "cell_type": "code",
      "source": "sns.countplot(x= df['Married'])",
      "metadata": {
        "trusted": true
      },
      "outputs": [
        {
          "execution_count": 11,
          "output_type": "execute_result",
          "data": {
            "text/plain": "<Axes: xlabel='Married', ylabel='count'>"
          },
          "metadata": {}
        },
        {
          "output_type": "display_data",
          "data": {
            "text/plain": "<Figure size 640x480 with 1 Axes>",
            "image/png": "[encoded data removed]"
          },
          "metadata": {}
        }
      ],
      "execution_count": 11
    },
    {
      "id": "f1e28c1f-e02b-4f17-9c7c-16087fb77d29",
      "cell_type": "code",
      "source": "df['Married'].mode()[0]",
      "metadata": {
        "trusted": true
      },
      "outputs": [
        {
          "execution_count": 12,
          "output_type": "execute_result",
          "data": {
            "text/plain": "'Yes'"
          },
          "metadata": {}
        }
      ],
      "execution_count": 12
    },
    {
      "id": "4949b387-c44a-48a0-82cb-f94b25b09b8e",
      "cell_type": "code",
      "source": "df['Married'] = df['Married'].fillna(df['Married'].mode()[0])",
      "metadata": {
        "trusted": true
      },
      "outputs": [],
      "execution_count": 13
    },
    {
      "id": "721b50df-701a-4ee6-819b-caa5489cf9cc",
      "cell_type": "code",
      "source": "sns.countplot(x=df['Dependents'])",
      "metadata": {
        "trusted": true
      },
      "outputs": [
        {
          "execution_count": 14,
          "output_type": "execute_result",
          "data": {
            "text/plain": "<Axes: xlabel='Dependents', ylabel='count'>"
          },
          "metadata": {}
        },
        {
          "output_type": "display_data",
          "data": {
            "text/plain": "<Figure size 640x480 with 1 Axes>",
            "image/png": "[encoded data removed]"
          },
          "metadata": {}
        }
      ],
      "execution_count": 14
    },
    {
      "id": "a806ea1c-ea4d-4cee-a5f2-76fb626e8eeb",
      "cell_type": "code",
      "source": "df['Dependents'].value_counts()",
      "metadata": {
        "trusted": true
      },
      "outputs": [
        {
          "execution_count": 15,
          "output_type": "execute_result",
          "data": {
            "text/plain": "Dependents\n0     345\n1     102\n2     101\n3+     51\nName: count, dtype: int64"
          },
          "metadata": {}
        }
      ],
      "execution_count": 15
    },
    {
      "id": "f159c24a-319b-4f7e-86ae-26064050a55f",
      "cell_type": "code",
      "source": "df['Dependents'].mode()[0]",
      "metadata": {
        "trusted": true
      },
      "outputs": [
        {
          "execution_count": 16,
          "output_type": "execute_result",
          "data": {
            "text/plain": "'0'"
          },
          "metadata": {}
        }
      ],
      "execution_count": 16
    },
    {
      "id": "4a084e4a-e0a1-4a6a-a2cd-7566f867b1e2",
      "cell_type": "code",
      "source": "df['Dependents'] = df['Dependents'].fillna(df['Dependents'].mode()[0])",
      "metadata": {
        "trusted": true
      },
      "outputs": [],
      "execution_count": 17
    },
    {
      "id": "2147a16b-418b-41c0-b16e-bdfa8b734d65",
      "cell_type": "code",
      "source": "sns.countplot(x = df['Self_Employed'])",
      "metadata": {
        "trusted": true
      },
      "outputs": [
        {
          "execution_count": 18,
          "output_type": "execute_result",
          "data": {
            "text/plain": "<Axes: xlabel='Self_Employed', ylabel='count'>"
          },
          "metadata": {}
        },
        {
          "output_type": "display_data",
          "data": {
            "text/plain": "<Figure size 640x480 with 1 Axes>",
            "image/png": "[encoded data removed]"
          },
          "metadata": {}
        }
      ],
      "execution_count": 18
    },
    {
      "id": "a00c8ec1-5473-47b9-abf0-86477736cec4",
      "cell_type": "code",
      "source": "df['Self_Employed'].mode()[0]",
      "metadata": {
        "trusted": true
      },
      "outputs": [
        {
          "execution_count": 19,
          "output_type": "execute_result",
          "data": {
            "text/plain": "'No'"
          },
          "metadata": {}
        }
      ],
      "execution_count": 19
    },
    {
      "id": "dbf96f1a-42af-437e-958b-224f294c82c0",
      "cell_type": "code",
      "source": "df['Self_Employed'] = df['Self_Employed'].fillna(df['Self_Employed'].mode()[0])",
      "metadata": {
        "trusted": true
      },
      "outputs": [],
      "execution_count": 20
    },
    {
      "id": "1084634b-ebb4-43c0-9f30-23e3c1941c8b",
      "cell_type": "code",
      "source": "df.isna().sum()*100/len(df)",
      "metadata": {
        "trusted": true
      },
      "outputs": [
        {
          "execution_count": 21,
          "output_type": "execute_result",
          "data": {
            "text/plain": "Loan_ID              0.000000\nGender               0.000000\nMarried              0.000000\nDependents           0.000000\nEducation            0.000000\nSelf_Employed        0.000000\nApplicantIncome      0.000000\nCoapplicantIncome    0.000000\nLoanAmount           3.583062\nLoan_Amount_Term     2.280130\nCredit_History       8.143322\nProperty_Area        0.000000\nLoan_Status          0.000000\ndtype: float64"
          },
          "metadata": {}
        }
      ],
      "execution_count": 21
    },
    {
      "id": "1230b743-fec1-465c-b60c-55d481f7a6eb",
      "cell_type": "code",
      "source": "df['LoanAmount'].median()",
      "metadata": {
        "trusted": true
      },
      "outputs": [
        {
          "execution_count": 22,
          "output_type": "execute_result",
          "data": {
            "text/plain": "np.float64(128.0)"
          },
          "metadata": {}
        }
      ],
      "execution_count": 22
    },
    {
      "id": "45e3131c-ecc9-423f-a366-314653190cc1",
      "cell_type": "code",
      "source": "df['LoanAmount'] = df['LoanAmount'].fillna(df['LoanAmount'].median())",
      "metadata": {
        "trusted": true
      },
      "outputs": [],
      "execution_count": 23
    },
    {
      "id": "ecae15f8-ffe9-4daf-85d3-d90608648fa3",
      "cell_type": "code",
      "source": "df['Loan_Amount_Term'].median()",
      "metadata": {
        "trusted": true
      },
      "outputs": [
        {
          "execution_count": 24,
          "output_type": "execute_result",
          "data": {
            "text/plain": "np.float64(360.0)"
          },
          "metadata": {}
        }
      ],
      "execution_count": 24
    },
    {
      "id": "9bf7b5d1-e85b-4add-a226-074a1ad30ddc",
      "cell_type": "code",
      "source": "df['Loan_Amount_Term'] = df['Loan_Amount_Term'].fillna(df['Loan_Amount_Term'].median())",
      "metadata": {
        "trusted": true
      },
      "outputs": [],
      "execution_count": 25
    },
    {
      "id": "082046d9-ae0f-4bd2-bd4a-7fc586551028",
      "cell_type": "code",
      "source": "sns.countplot(x = df['Credit_History'])",
      "metadata": {
        "trusted": true
      },
      "outputs": [
        {
          "execution_count": 26,
          "output_type": "execute_result",
          "data": {
            "text/plain": "<Axes: xlabel='Credit_History', ylabel='count'>"
          },
          "metadata": {}
        },
        {
          "output_type": "display_data",
          "data": {
            "text/plain": "<Figure size 640x480 with 1 Axes>",
            "image/png": "[encoded data removed]"
          },
          "metadata": {}
        }
      ],
      "execution_count": 26
    },
    {
      "id": "5f4eb71a-e832-4952-988f-e64a164a775c",
      "cell_type": "code",
      "source": "df['Credit_History'].mode()[0]",
      "metadata": {
        "trusted": true
      },
      "outputs": [
        {
          "execution_count": 27,
          "output_type": "execute_result",
          "data": {
            "text/plain": "np.float64(1.0)"
          },
          "metadata": {}
        }
      ],
      "execution_count": 27
    },
    {
      "id": "3e0ea5c9-af6a-41fb-9b67-8acc2ebe6596",
      "cell_type": "code",
      "source": "df['Credit_History'] = df['Credit_History'].fillna(df['Credit_History'].mode()[0])",
      "metadata": {
        "trusted": true
      },
      "outputs": [],
      "execution_count": 28
    },
    {
      "id": "71ff33d4-d2c9-4b92-8edf-0f04775445d6",
      "cell_type": "code",
      "source": "df.isna().sum()",
      "metadata": {
        "trusted": true
      },
      "outputs": [
        {
          "execution_count": 29,
          "output_type": "execute_result",
          "data": {
            "text/plain": "Loan_ID              0\nGender               0\nMarried              0\nDependents           0\nEducation            0\nSelf_Employed        0\nApplicantIncome      0\nCoapplicantIncome    0\nLoanAmount           0\nLoan_Amount_Term     0\nCredit_History       0\nProperty_Area        0\nLoan_Status          0\ndtype: int64"
          },
          "metadata": {}
        }
      ],
      "execution_count": 29
    },
    {
      "id": "cd003267-56de-4acd-ae57-d81deeca674e",
      "cell_type": "code",
      "source": "df.head()",
      "metadata": {
        "trusted": true
      },
      "outputs": [
        {
          "execution_count": 30,
          "output_type": "execute_result",
          "data": {
            "text/plain": "    Loan_ID Gender Married Dependents     Education Self_Employed  \\\n0  LP001002   Male      No          0      Graduate            No   \n1  LP001003   Male     Yes          1      Graduate            No   \n2  LP001005   Male     Yes          0      Graduate           Yes   \n3  LP001006   Male     Yes          0  Not Graduate            No   \n4  LP001008   Male      No          0      Graduate            No   \n\n   ApplicantIncome  CoapplicantIncome  LoanAmount  Loan_Amount_Term  \\\n0             5849                0.0       128.0             360.0   \n1             4583             1508.0       128.0             360.0   \n2             3000                0.0        66.0             360.0   \n3             2583             2358.0       120.0             360.0   \n4             6000                0.0       141.0             360.0   \n\n   Credit_History Property_Area Loan_Status  \n0             1.0         Urban           Y  \n1             1.0         Rural           N  \n2             1.0         Urban           Y  \n3             1.0         Urban           Y  \n4             1.0         Urban           Y  ",
            "text/html": "<div>\n<style scoped>\n    .dataframe tbody tr th:only-of-type {\n        vertical-align: middle;\n    }\n\n    .dataframe tbody tr th {\n        vertical-align: top;\n    }\n\n    .dataframe thead th {\n        text-align: right;\n    }\n</style>\n<table border=\"1\" class=\"dataframe\">\n  <thead>\n    <tr style=\"text-align: right;\">\n      <th></th>\n      <th>Loan_ID</th>\n      <th>Gender</th>\n      <th>Married</th>\n      <th>Dependents</th>\n      <th>Education</th>\n      <th>Self_Employed</th>\n      <th>ApplicantIncome</th>\n      <th>CoapplicantIncome</th>\n      <th>LoanAmount</th>\n      <th>Loan_Amount_Term</th>\n      <th>Credit_History</th>\n      <th>Property_Area</th>\n      <th>Loan_Status</th>\n    </tr>\n  </thead>\n  <tbody>\n    <tr>\n      <th>0</th>\n      <td>LP001002</td>\n      <td>Male</td>\n      <td>No</td>\n      <td>0</td>\n      <td>Graduate</td>\n      <td>No</td>\n      <td>5849</td>\n      <td>0.0</td>\n      <td>128.0</td>\n      <td>360.0</td>\n      <td>1.0</td>\n      <td>Urban</td>\n      <td>Y</td>\n    </tr>\n    <tr>\n      <th>1</th>\n      <td>LP001003</td>\n      <td>Male</td>\n      <td>Yes</td>\n      <td>1</td>\n      <td>Graduate</td>\n      <td>No</td>\n      <td>4583</td>\n      <td>1508.0</td>\n      <td>128.0</td>\n      <td>360.0</td>\n      <td>1.0</td>\n      <td>Rural</td>\n      <td>N</td>\n    </tr>\n    <tr>\n      <th>2</th>\n      <td>LP001005</td>\n      <td>Male</td>\n      <td>Yes</td>\n      <td>0</td>\n      <td>Graduate</td>\n      <td>Yes</td>\n      <td>3000</td>\n      <td>0.0</td>\n      <td>66.0</td>\n      <td>360.0</td>\n      <td>1.0</td>\n      <td>Urban</td>\n      <td>Y</td>\n    </tr>\n    <tr>\n      <th>3</th>\n      <td>LP001006</td>\n      <td>Male</td>\n      <td>Yes</td>\n      <td>0</td>\n      <td>Not Graduate</td>\n      <td>No</td>\n      <td>2583</td>\n      <td>2358.0</td>\n      <td>120.0</td>\n      <td>360.0</td>\n      <td>1.0</td>\n      <td>Urban</td>\n      <td>Y</td>\n    </tr>\n    <tr>\n      <th>4</th>\n      <td>LP001008</td>\n      <td>Male</td>\n      <td>No</td>\n      <td>0</td>\n      <td>Graduate</td>\n      <td>No</td>\n      <td>6000</td>\n      <td>0.0</td>\n      <td>141.0</td>\n      <td>360.0</td>\n      <td>1.0</td>\n      <td>Urban</td>\n      <td>Y</td>\n    </tr>\n  </tbody>\n</table>\n</div>"
          },
          "metadata": {}
        }
      ],
      "execution_count": 30
    },
    {
      "id": "136f2569-a9b0-4501-9ae4-dcc03aadf3c6",
      "cell_type": "markdown",
      "source": "## Encode Categorical Variables",
      "metadata": {}
    },
    {
      "id": "7c07fef3-da71-490d-a6aa-d948862cb45e",
      "cell_type": "code",
      "source": "df.replace({\n    \"Loan_Status\": {'N': 0, 'Y': 1},\n    \"Gender\": {'Male': 0, 'Female': 1},\n    \"Education\": {'Not Graduate': 0, 'Graduate': 1},\n    \"Married\": {'No': 0, 'Yes': 1},\n    \"Self_Employed\": {'No': 0, 'Yes': 1}\n}, inplace=True)",
      "metadata": {
        "trusted": true
      },
      "outputs": [],
      "execution_count": 31
    },
    {
      "id": "c8abb039-0a63-48e5-b8f3-f2f68a5dd456",
      "cell_type": "code",
      "source": "df",
      "metadata": {
        "trusted": true
      },
      "outputs": [
        {
          "execution_count": 32,
          "output_type": "execute_result",
          "data": {
            "text/plain": "      Loan_ID  Gender  Married Dependents  Education  Self_Employed  \\\n0    LP001002       0        0          0          1              0   \n1    LP001003       0        1          1          1              0   \n2    LP001005       0        1          0          1              1   \n3    LP001006       0        1          0          0              0   \n4    LP001008       0        0          0          1              0   \n..        ...     ...      ...        ...        ...            ...   \n609  LP002978       1        0          0          1              0   \n610  LP002979       0        1         3+          1              0   \n611  LP002983       0        1          1          1              0   \n612  LP002984       0        1          2          1              0   \n613  LP002990       1        0          0          1              1   \n\n     ApplicantIncome  CoapplicantIncome  LoanAmount  Loan_Amount_Term  \\\n0               5849                0.0       128.0             360.0   \n1               4583             1508.0       128.0             360.0   \n2               3000                0.0        66.0             360.0   \n3               2583             2358.0       120.0             360.0   \n4               6000                0.0       141.0             360.0   \n..               ...                ...         ...               ...   \n609             2900                0.0        71.0             360.0   \n610             4106                0.0        40.0             180.0   \n611             8072              240.0       253.0             360.0   \n612             7583                0.0       187.0             360.0   \n613             4583                0.0       133.0             360.0   \n\n     Credit_History Property_Area  Loan_Status  \n0               1.0         Urban            1  \n1               1.0         Rural            0  \n2               1.0         Urban            1  \n3               1.0         Urban            1  \n4               1.0         Urban            1  \n..              ...           ...          ...  \n609             1.0         Rural            1  \n610             1.0         Rural            1  \n611             1.0         Urban            1  \n612             1.0         Urban            1  \n613             0.0     Semiurban            0  \n\n[614 rows x 13 columns]",
            "text/html": "<div>\n<style scoped>\n    .dataframe tbody tr th:only-of-type {\n        vertical-align: middle;\n    }\n\n    .dataframe tbody tr th {\n        vertical-align: top;\n    }\n\n    .dataframe thead th {\n        text-align: right;\n    }\n</style>\n<table border=\"1\" class=\"dataframe\">\n  <thead>\n    <tr style=\"text-align: right;\">\n      <th></th>\n      <th>Loan_ID</th>\n      <th>Gender</th>\n      <th>Married</th>\n      <th>Dependents</th>\n      <th>Education</th>\n      <th>Self_Employed</th>\n      <th>ApplicantIncome</th>\n      <th>CoapplicantIncome</th>\n      <th>LoanAmount</th>\n      <th>Loan_Amount_Term</th>\n      <th>Credit_History</th>\n      <th>Property_Area</th>\n      <th>Loan_Status</th>\n    </tr>\n  </thead>\n  <tbody>\n    <tr>\n      <th>0</th>\n      <td>LP001002</td>\n      <td>0</td>\n      <td>0</td>\n      <td>0</td>\n      <td>1</td>\n      <td>0</td>\n      <td>5849</td>\n      <td>0.0</td>\n      <td>128.0</td>\n      <td>360.0</td>\n      <td>1.0</td>\n      <td>Urban</td>\n      <td>1</td>\n    </tr>\n    <tr>\n      <th>1</th>\n      <td>LP001003</td>\n      <td>0</td>\n      <td>1</td>\n      <td>1</td>\n      <td>1</td>\n      <td>0</td>\n      <td>4583</td>\n      <td>1508.0</td>\n      <td>128.0</td>\n      <td>360.0</td>\n      <td>1.0</td>\n      <td>Rural</td>\n      <td>0</td>\n    </tr>\n    <tr>\n      <th>2</th>\n      <td>LP001005</td>\n      <td>0</td>\n      <td>1</td>\n      <td>0</td>\n      <td>1</td>\n      <td>1</td>\n      <td>3000</td>\n      <td>0.0</td>\n      <td>66.0</td>\n      <td>360.0</td>\n      <td>1.0</td>\n      <td>Urban</td>\n      <td>1</td>\n    </tr>\n    <tr>\n      <th>3</th>\n      <td>LP001006</td>\n      <td>0</td>\n      <td>1</td>\n      <td>0</td>\n      <td>0</td>\n      <td>0</td>\n      <td>2583</td>\n      <td>2358.0</td>\n      <td>120.0</td>\n      <td>360.0</td>\n      <td>1.0</td>\n      <td>Urban</td>\n      <td>1</td>\n    </tr>\n    <tr>\n      <th>4</th>\n      <td>LP001008</td>\n      <td>0</td>\n      <td>0</td>\n      <td>0</td>\n      <td>1</td>\n      <td>0</td>\n      <td>6000</td>\n      <td>0.0</td>\n      <td>141.0</td>\n      <td>360.0</td>\n      <td>1.0</td>\n      <td>Urban</td>\n      <td>1</td>\n    </tr>\n    <tr>\n      <th>...</th>\n      <td>...</td>\n      <td>...</td>\n      <td>...</td>\n      <td>...</td>\n      <td>...</td>\n      <td>...</td>\n      <td>...</td>\n      <td>...</td>\n      <td>...</td>\n      <td>...</td>\n      <td>...</td>\n      <td>...</td>\n      <td>...</td>\n    </tr>\n    <tr>\n      <th>609</th>\n      <td>LP002978</td>\n      <td>1</td>\n      <td>0</td>\n      <td>0</td>\n      <td>1</td>\n      <td>0</td>\n      <td>2900</td>\n      <td>0.0</td>\n      <td>71.0</td>\n      <td>360.0</td>\n      <td>1.0</td>\n      <td>Rural</td>\n      <td>1</td>\n    </tr>\n    <tr>\n      <th>610</th>\n      <td>LP002979</td>\n      <td>0</td>\n      <td>1</td>\n      <td>3+</td>\n      <td>1</td>\n      <td>0</td>\n      <td>4106</td>\n      <td>0.0</td>\n      <td>40.0</td>\n      <td>180.0</td>\n      <td>1.0</td>\n      <td>Rural</td>\n      <td>1</td>\n    </tr>\n    <tr>\n      <th>611</th>\n      <td>LP002983</td>\n      <td>0</td>\n      <td>1</td>\n      <td>1</td>\n      <td>1</td>\n      <td>0</td>\n      <td>8072</td>\n      <td>240.0</td>\n      <td>253.0</td>\n      <td>360.0</td>\n      <td>1.0</td>\n      <td>Urban</td>\n      <td>1</td>\n    </tr>\n    <tr>\n      <th>612</th>\n      <td>LP002984</td>\n      <td>0</td>\n      <td>1</td>\n      <td>2</td>\n      <td>1</td>\n      <td>0</td>\n      <td>7583</td>\n      <td>0.0</td>\n      <td>187.0</td>\n      <td>360.0</td>\n      <td>1.0</td>\n      <td>Urban</td>\n      <td>1</td>\n    </tr>\n    <tr>\n      <th>613</th>\n      <td>LP002990</td>\n      <td>1</td>\n      <td>0</td>\n      <td>0</td>\n      <td>1</td>\n      <td>1</td>\n      <td>4583</td>\n      <td>0.0</td>\n      <td>133.0</td>\n      <td>360.0</td>\n      <td>0.0</td>\n      <td>Semiurban</td>\n      <td>0</td>\n    </tr>\n  </tbody>\n</table>\n<p>614 rows × 13 columns</p>\n</div>"
          },
          "metadata": {}
        }
      ],
      "execution_count": 32
    },
    {
      "id": "89d1a76b-57c7-41c0-bf1d-c207f802630d",
      "cell_type": "markdown",
      "source": "## Train/Test Split & Feature Engineering",
      "metadata": {}
    },
    {
      "id": "2fbae701-b511-4f61-9b51-22b22f6debe6",
      "cell_type": "code",
      "source": "def train_test_split_and_features(df):\n    y = df[\"Loan_Status\"]\n    x = df.drop(['Loan_Status', 'Loan_ID'], axis=1)\n    x = pd.get_dummies(data = x, columns = [\"Property_Area\",\"Dependents\"])\n    x_train, x_test, y_train, y_test = train_test_split(x, y, test_size=0.20, random_state = 0)\n    print(x.head(5))\n    print(x.columns)\n    features = list(x.columns)\n    return x_train, x_test, y_train, y_test,features",
      "metadata": {
        "trusted": true
      },
      "outputs": [],
      "execution_count": 33
    },
    {
      "id": "269c8b66-f0d8-457c-8efa-43a0de282612",
      "cell_type": "code",
      "source": "x_train, x_test, y_train, y_test,features = train_test_split_and_features(df)",
      "metadata": {
        "trusted": true
      },
      "outputs": [
        {
          "name": "stdout",
          "output_type": "stream",
          "text": "   Gender  Married  Education  Self_Employed  ApplicantIncome  \\\n0       0        0          1              0             5849   \n1       0        1          1              0             4583   \n2       0        1          1              1             3000   \n3       0        1          0              0             2583   \n4       0        0          1              0             6000   \n\n   CoapplicantIncome  LoanAmount  Loan_Amount_Term  Credit_History  \\\n0                0.0       128.0             360.0             1.0   \n1             1508.0       128.0             360.0             1.0   \n2                0.0        66.0             360.0             1.0   \n3             2358.0       120.0             360.0             1.0   \n4                0.0       141.0             360.0             1.0   \n\n   Property_Area_Rural  Property_Area_Semiurban  Property_Area_Urban  \\\n0                False                    False                 True   \n1                 True                    False                False   \n2                False                    False                 True   \n3                False                    False                 True   \n4                False                    False                 True   \n\n   Dependents_0  Dependents_1  Dependents_2  Dependents_3+  \n0          True         False         False          False  \n1         False          True         False          False  \n2          True         False         False          False  \n3          True         False         False          False  \n4          True         False         False          False  \nIndex(['Gender', 'Married', 'Education', 'Self_Employed', 'ApplicantIncome',\n       'CoapplicantIncome', 'LoanAmount', 'Loan_Amount_Term', 'Credit_History',\n       'Property_Area_Rural', 'Property_Area_Semiurban', 'Property_Area_Urban',\n       'Dependents_0', 'Dependents_1', 'Dependents_2', 'Dependents_3+'],\n      dtype='object')\n"
        }
      ],
      "execution_count": 34
    },
    {
      "id": "843c7c19-4c78-4bd6-9675-b14803904810",
      "cell_type": "markdown",
      "source": "## Model Training & Evaluation",
      "metadata": {}
    },
    {
      "id": "6b8f8d24-1dc7-4f94-9d30-719e0a5d0dd4",
      "cell_type": "code",
      "source": "def fit_and_evaluate_model(x_train, x_test, y_train, y_test):\n    random_forest =  RandomForestClassifier(random_state=0,\\\n                                            max_depth=5,\\\n                                            min_samples_split= 0.01,\\\n                                            max_features= 0.8,\n                                            max_samples= 0.8)\n\n    model = random_forest.fit(x_train, y_train)\n    random_forest_predict = random_forest.predict(x_test)\n    random_forest_conf_matrix = confusion_matrix(y_test, random_forest_predict)\n    random_forest_acc_score = accuracy_score(y_test, random_forest_predict)\n    print(\"confussion matrix\")\n    print(random_forest_conf_matrix)\n    print(\"\\n\")\n    print(\"Accuracy of Random Forest:\",random_forest_acc_score*100,'\\n')\n    print(classification_report(y_test,random_forest_predict))\n    return model",
      "metadata": {
        "trusted": true
      },
      "outputs": [],
      "execution_count": 35
    },
    {
      "id": "782dc5b8-87d0-45d1-963d-3a16bc71b918",
      "cell_type": "code",
      "source": "model = fit_and_evaluate_model(x_train, x_test, y_train, y_test)",
      "metadata": {
        "trusted": true
      },
      "outputs": [
        {
          "name": "stdout",
          "output_type": "stream",
          "text": "confussion matrix\n[[14 19]\n [ 3 87]]\n\n\nAccuracy of Random Forest: 82.11382113821138 \n\n              precision    recall  f1-score   support\n\n           0       0.82      0.42      0.56        33\n           1       0.82      0.97      0.89        90\n\n    accuracy                           0.82       123\n   macro avg       0.82      0.70      0.72       123\nweighted avg       0.82      0.82      0.80       123\n\n"
        }
      ],
      "execution_count": 36
    },
    {
      "id": "dda9add7-2879-4425-99ed-0903e465f885",
      "cell_type": "markdown",
      "source": "## FEATURE IMPORTANCE",
      "metadata": {}
    },
    {
      "id": "17549317-23e1-4052-84c2-819d5fbe2ac3",
      "cell_type": "code",
      "source": "importances = pd.DataFrame(model.feature_importances_)\nimportances['features'] = features\nimportances.columns = ['importance','feature']\nimportances.sort_values(by = 'importance', ascending= True,inplace=True)",
      "metadata": {
        "trusted": true
      },
      "outputs": [],
      "execution_count": 37
    },
    {
      "id": "aa4f628e-5a97-4746-8fe4-ae5044fa6e95",
      "cell_type": "code",
      "source": "import matplotlib.pyplot as plt\nplt.barh(importances.feature, importances.importance)",
      "metadata": {
        "trusted": true
      },
      "outputs": [
        {
          "execution_count": 38,
          "output_type": "execute_result",
          "data": {
            "text/plain": "<BarContainer object of 16 artists>"
          },
          "metadata": {}
        },
        {
          "output_type": "display_data",
          "data": {
            "text/plain": "<Figure size 640x480 with 1 Axes>",
            "image/png": "[encoded data removed]"
          },
          "metadata": {}
        }
      ],
      "execution_count": 38
    },
    {
      "id": "b7f9115f-2fc1-4d5a-837a-5cd07aaf5ac2",
      "cell_type": "code",
      "source": "rf_proba = model.predict_proba(x_test)\nrf_predict = model.predict(x_test)\nprint(rf_proba[0:10])\nprint(rf_predict)",
      "metadata": {
        "trusted": true
      },
      "outputs": [
        {
          "name": "stdout",
          "output_type": "stream",
          "text": "[[0.19444599 0.80555401]\n [0.14819569 0.85180431]\n [0.38052013 0.61947987]\n [0.1841529  0.8158471 ]\n [0.08591748 0.91408252]\n [0.75808333 0.24191667]\n [0.2238848  0.7761152 ]\n [0.32124327 0.67875673]\n [0.88275661 0.11724339]\n [0.12933904 0.87066096]]\n[1 1 1 1 1 0 1 1 0 1 1 1 1 1 1 1 1 1 1 0 0 1 1 1 1 1 1 1 0 0 1 1 1 1 1 0 1\n 1 1 1 1 0 0 1 1 1 1 1 1 1 1 1 1 1 1 1 1 1 1 1 0 1 1 0 1 1 1 1 1 1 1 1 1 1\n 1 1 1 1 1 0 1 1 1 1 1 1 1 1 1 1 1 1 1 0 1 0 1 1 1 1 1 1 1 1 1 1 1 1 1 1 1\n 1 1 1 0 0 1 1 1 1 1 0 1]\n"
        }
      ],
      "execution_count": 39
    },
    {
      "id": "03faadce-e996-4b7b-a8b2-1a31c8950a68",
      "cell_type": "code",
      "source": "features = x_train.columns.tolist()\nprint(features)",
      "metadata": {
        "trusted": true
      },
      "outputs": [
        {
          "name": "stdout",
          "output_type": "stream",
          "text": "['Gender', 'Married', 'Education', 'Self_Employed', 'ApplicantIncome', 'CoapplicantIncome', 'LoanAmount', 'Loan_Amount_Term', 'Credit_History', 'Property_Area_Rural', 'Property_Area_Semiurban', 'Property_Area_Urban', 'Dependents_0', 'Dependents_1', 'Dependents_2', 'Dependents_3+']\n"
        }
      ],
      "execution_count": 40
    },
    {
      "id": "7004a52e-81a1-4dc7-a2b5-79be11ab4a8e",
      "cell_type": "markdown",
      "source": "## Custom Sample Input Predictions",
      "metadata": {}
    },
    {
      "id": "ee530367-9017-49c0-9d19-551b8145125f",
      "cell_type": "code",
      "source": "sample_input_df = pd.DataFrame([{\n    'Gender': 0,                \n    'Married': 1,               \n    'Education': 1,             \n    'Self_Employed': 0,         \n    'ApplicantIncome': 5000,    \n    'CoapplicantIncome': 2000,  \n    'LoanAmount': 150.0,\n    'Loan_Amount_Term': 360.0,\n    'Credit_History': 1.0,      \n    'Property_Area_Rural': 0,\n    'Property_Area_Semiurban': 1,  \n    'Property_Area_Urban': 0,\n    'Dependents_0': 1,          \n    'Dependents_1': 0,\n    'Dependents_2': 0,\n    'Dependents_3+': 0\n}])",
      "metadata": {
        "trusted": true
      },
      "outputs": [],
      "execution_count": 41
    },
    {
      "id": "d55527c0-b671-432e-9e0a-8490a3fb297d",
      "cell_type": "code",
      "source": "sample_prediction = model.predict(sample_input_df)\nsample_probability = model.predict_proba(sample_input_df)\n\nprint(\"Prediction:\", \"Loan Approved\" if sample_prediction[0] == 1 else \"Loan Rejected\")\nprint(\"Probability of Approval:\", round(sample_probability[0][1]*100, 2), \"%\")",
      "metadata": {
        "trusted": true
      },
      "outputs": [
        {
          "name": "stdout",
          "output_type": "stream",
          "text": "Prediction: Loan Approved\nProbability of Approval: 80.69 %\n"
        }
      ],
      "execution_count": 42
    },
    {
      "id": "69d72a89-8404-42fd-b56a-bafbae0bf918",
      "cell_type": "code",
      "source": "sample_1 = pd.DataFrame([{\n    'Gender': 0,  # Male\n    'Married': 1,\n    'Education': 1,  # Graduate\n    'Self_Employed': 0,\n    'ApplicantIncome': 8000,\n    'CoapplicantIncome': 2000,\n    'LoanAmount': 150,\n    'Loan_Amount_Term': 360.0,\n    'Credit_History': 1.0,\n    'Property_Area_Rural': 0,\n    'Property_Area_Semiurban': 1,\n    'Property_Area_Urban': 0,\n    'Dependents_0': 1,\n    'Dependents_1': 0,\n    'Dependents_2': 0,\n    'Dependents_3+': 0\n}])\n",
      "metadata": {
        "trusted": true
      },
      "outputs": [],
      "execution_count": 43
    },
    {
      "id": "bfdd7b98-2b11-4796-8dc6-c6b39d1f565c",
      "cell_type": "code",
      "source": "sample_prediction = model.predict(sample_1)\nsample_probability = model.predict_proba(sample_1)\n\nprint(\"Prediction:\", \"Loan Approved\" if sample_prediction[0] == 1 else \"Loan Rejected \")\nprint(\"Probability of Approval:\", round(sample_probability[0][1]*100, 2), \"%\")",
      "metadata": {
        "trusted": true
      },
      "outputs": [
        {
          "name": "stdout",
          "output_type": "stream",
          "text": "Prediction: Loan Approved\nProbability of Approval: 81.91 %\n"
        }
      ],
      "execution_count": 44
    },
    {
      "id": "81f8f3b5-be9a-48fd-b8f1-26dfed558dcb",
      "cell_type": "code",
      "source": "sample_2 = pd.DataFrame([{\n    'Gender': 1,  # Female\n    'Married': 0,\n    'Education': 0,  # Not Graduate\n    'Self_Employed': 1,\n    'ApplicantIncome': 1800,\n    'CoapplicantIncome': 0,\n    'LoanAmount': 120,\n    'Loan_Amount_Term': 360.0,\n    'Credit_History': 0.0,\n    'Property_Area_Rural': 1,\n    'Property_Area_Semiurban': 0,\n    'Property_Area_Urban': 0,\n    'Dependents_0': 0,\n    'Dependents_1': 0,\n    'Dependents_2': 0,\n    'Dependents_3+': 1\n}])",
      "metadata": {
        "trusted": true
      },
      "outputs": [],
      "execution_count": 45
    },
    {
      "id": "8274fa08-36ab-428a-acd7-5cb1460bb857",
      "cell_type": "code",
      "source": "sample_prediction = model.predict(sample_2)\nsample_probability = model.predict_proba(sample_2)\n\nprint(\"Prediction:\", \"Loan Approved\" if sample_prediction[0] == 1 else \"Loan Rejected\")\nprint(\"Probability of Approval:\", round(sample_probability[0][1]*100, 2), \"%\")",
      "metadata": {
        "trusted": true
      },
      "outputs": [
        {
          "name": "stdout",
          "output_type": "stream",
          "text": "Prediction: Loan Rejected\nProbability of Approval: 8.71 %\n"
        }
      ],
      "execution_count": 46
    },
    {
      "id": "b64e6bbf-a39b-4e29-b488-0d561ccd4839",
      "cell_type": "code",
      "source": "sample_3 = pd.DataFrame([{\n    'Gender': 0,\n    'Married': 1,\n    'Education': 1,\n    'Self_Employed': 1,\n    'ApplicantIncome': 3500,\n    'CoapplicantIncome': 1500,\n    'LoanAmount': 160,\n    'Loan_Amount_Term': 360.0,\n    'Credit_History': 1.0,\n    'Property_Area_Rural': 0,\n    'Property_Area_Semiurban': 0,\n    'Property_Area_Urban': 1,\n    'Dependents_0': 0,\n    'Dependents_1': 1,\n    'Dependents_2': 0,\n    'Dependents_3+': 0\n}])",
      "metadata": {
        "trusted": true
      },
      "outputs": [],
      "execution_count": 47
    },
    {
      "id": "9c55d8b3-7b7b-4b73-b649-438fa7ff7571",
      "cell_type": "code",
      "source": "sample_prediction = model.predict(sample_3)\nsample_probability = model.predict_proba(sample_3)\n\nprint(\"Prediction:\", \"Loan Approved\" if sample_prediction[0] == 1 else \"Loan Rejected\")\nprint(\"Probability of Approval:\", round(sample_probability[0][1]*100, 2), \"%\")",
      "metadata": {
        "trusted": true
      },
      "outputs": [
        {
          "name": "stdout",
          "output_type": "stream",
          "text": "Prediction: Loan Approved\nProbability of Approval: 79.24 %\n"
        }
      ],
      "execution_count": 48
    },
    {
      "id": "d3693dea-4bd4-4346-9804-2df578bcc0ab",
      "cell_type": "code",
      "source": "sample_4 = pd.DataFrame([{\n    'Gender': 1,\n    'Married': 1,\n    'Education': 1,\n    'Self_Employed': 0,\n    'ApplicantIncome': 2500,\n    'CoapplicantIncome': 1000,\n    'LoanAmount': 300,\n    'Loan_Amount_Term': 180.0,\n    'Credit_History': 0.0,\n    'Property_Area_Rural': 0,\n    'Property_Area_Semiurban': 0,\n    'Property_Area_Urban': 1,\n    'Dependents_0': 0,\n    'Dependents_1': 0,\n    'Dependents_2': 1,\n    'Dependents_3+': 0\n}])",
      "metadata": {
        "trusted": true
      },
      "outputs": [],
      "execution_count": 49
    },
    {
      "id": "d425fba4-4365-4d07-9f02-f08356466c05",
      "cell_type": "code",
      "source": "sample_prediction = model.predict(sample_4)\nsample_probability = model.predict_proba(sample_4)\n\nprint(\"Prediction:\", \"Loan Approved\" if sample_prediction[0] == 1 else \"Loan Rejected\")\nprint(\"Probability of Approval:\", round(sample_probability[0][1]*100, 2), \"%\")",
      "metadata": {
        "trusted": true
      },
      "outputs": [
        {
          "name": "stdout",
          "output_type": "stream",
          "text": "Prediction: Loan Rejected\nProbability of Approval: 18.48 %\n"
        }
      ],
      "execution_count": 50
    },
    {
      "id": "5d3cc8c5-1c5f-4522-bb9c-2a7091ad50c3",
      "cell_type": "code",
      "source": "sample_5 = pd.DataFrame([{\n    'Gender': 0,\n    'Married': 1,\n    'Education': 1,\n    'Self_Employed': 0,\n    'ApplicantIncome': 7000,\n    'CoapplicantIncome': 3000,\n    'LoanAmount': 180,\n    'Loan_Amount_Term': 360.0,\n    'Credit_History': 1.0,\n    'Property_Area_Rural': 0,\n    'Property_Area_Semiurban': 1,\n    'Property_Area_Urban': 0,\n    'Dependents_0': 0,\n    'Dependents_1': 1,\n    'Dependents_2': 0,\n    'Dependents_3+': 0\n}])",
      "metadata": {
        "trusted": true
      },
      "outputs": [],
      "execution_count": 51
    },
    {
      "id": "85def7d4-98fe-4cbf-bef1-77ac048bcd99",
      "cell_type": "code",
      "source": "sample_prediction = model.predict(sample_5)\nsample_probability = model.predict_proba(sample_5)\n\nprint(\"Prediction:\", \"Loan Approved\" if sample_prediction[0] == 1 else \"Loan Rejected\")\nprint(\"Probability of Approval:\", round(sample_probability[0][1]*100, 2), \"%\")",
      "metadata": {
        "trusted": true
      },
      "outputs": [
        {
          "name": "stdout",
          "output_type": "stream",
          "text": "Prediction: Loan Approved\nProbability of Approval: 79.61 %\n"
        }
      ],
      "execution_count": 52
    },
    {
      "id": "7a55e206-e1c0-4018-bf3c-bc8bd82db550",
      "cell_type": "code",
      "source": "",
      "metadata": {
        "trusted": true
      },
      "outputs": [],
      "execution_count": null
    }
  ]
}